{
 "cells": [
  {
   "cell_type": "code",
   "execution_count": 1,
   "id": "67a15bb2-f827-4727-b54c-e34e6c8e5bdc",
   "metadata": {
    "collapsed": true,
    "jupyter": {
     "outputs_hidden": true
    }
   },
   "outputs": [
    {
     "name": "stdout",
     "output_type": "stream",
     "text": [
      "Requirement already satisfied: yfinance in /opt/miniconda3/envs/quant/lib/python3.11/site-packages (0.2.54)\n",
      "Requirement already satisfied: pandas>=1.3.0 in /opt/miniconda3/envs/quant/lib/python3.11/site-packages (from yfinance) (2.2.3)\n",
      "Requirement already satisfied: numpy>=1.16.5 in /opt/miniconda3/envs/quant/lib/python3.11/site-packages (from yfinance) (2.2.3)\n",
      "Requirement already satisfied: requests>=2.31 in /opt/miniconda3/envs/quant/lib/python3.11/site-packages (from yfinance) (2.32.3)\n",
      "Requirement already satisfied: multitasking>=0.0.7 in /opt/miniconda3/envs/quant/lib/python3.11/site-packages (from yfinance) (0.0.11)\n",
      "Requirement already satisfied: platformdirs>=2.0.0 in /opt/miniconda3/envs/quant/lib/python3.11/site-packages (from yfinance) (4.3.6)\n",
      "Requirement already satisfied: pytz>=2022.5 in /opt/miniconda3/envs/quant/lib/python3.11/site-packages (from yfinance) (2024.1)\n",
      "Requirement already satisfied: frozendict>=2.3.4 in /opt/miniconda3/envs/quant/lib/python3.11/site-packages (from yfinance) (2.4.6)\n",
      "Requirement already satisfied: peewee>=3.16.2 in /opt/miniconda3/envs/quant/lib/python3.11/site-packages (from yfinance) (3.17.9)\n",
      "Requirement already satisfied: beautifulsoup4>=4.11.1 in /opt/miniconda3/envs/quant/lib/python3.11/site-packages (from yfinance) (4.13.3)\n",
      "Requirement already satisfied: soupsieve>1.2 in /opt/miniconda3/envs/quant/lib/python3.11/site-packages (from beautifulsoup4>=4.11.1->yfinance) (2.5)\n",
      "Requirement already satisfied: typing-extensions>=4.0.0 in /opt/miniconda3/envs/quant/lib/python3.11/site-packages (from beautifulsoup4>=4.11.1->yfinance) (4.12.2)\n",
      "Requirement already satisfied: python-dateutil>=2.8.2 in /opt/miniconda3/envs/quant/lib/python3.11/site-packages (from pandas>=1.3.0->yfinance) (2.9.0.post0)\n",
      "Requirement already satisfied: tzdata>=2022.7 in /opt/miniconda3/envs/quant/lib/python3.11/site-packages (from pandas>=1.3.0->yfinance) (2025.1)\n",
      "Requirement already satisfied: charset_normalizer<4,>=2 in /opt/miniconda3/envs/quant/lib/python3.11/site-packages (from requests>=2.31->yfinance) (3.4.1)\n",
      "Requirement already satisfied: idna<4,>=2.5 in /opt/miniconda3/envs/quant/lib/python3.11/site-packages (from requests>=2.31->yfinance) (3.10)\n",
      "Requirement already satisfied: urllib3<3,>=1.21.1 in /opt/miniconda3/envs/quant/lib/python3.11/site-packages (from requests>=2.31->yfinance) (2.3.0)\n",
      "Requirement already satisfied: certifi>=2017.4.17 in /opt/miniconda3/envs/quant/lib/python3.11/site-packages (from requests>=2.31->yfinance) (2025.1.31)\n",
      "Requirement already satisfied: six>=1.5 in /opt/miniconda3/envs/quant/lib/python3.11/site-packages (from python-dateutil>=2.8.2->pandas>=1.3.0->yfinance) (1.17.0)\n",
      "Requirement already satisfied: morningstar-data in /opt/miniconda3/envs/quant/lib/python3.11/site-packages (1.10.5)\n",
      "Requirement already satisfied: PyJWT<3.0.0,>=2.4.0 in /opt/miniconda3/envs/quant/lib/python3.11/site-packages (from morningstar-data) (2.10.1)\n",
      "Requirement already satisfied: boto3<2.0.0,>=1.20.1 in /opt/miniconda3/envs/quant/lib/python3.11/site-packages (from morningstar-data) (1.37.2)\n",
      "Requirement already satisfied: numpy in /opt/miniconda3/envs/quant/lib/python3.11/site-packages (from morningstar-data) (2.2.3)\n",
      "Requirement already satisfied: pandas<3,>=1.5.3 in /opt/miniconda3/envs/quant/lib/python3.11/site-packages (from morningstar-data) (2.2.3)\n",
      "Requirement already satisfied: polling2==0.5.0 in /opt/miniconda3/envs/quant/lib/python3.11/site-packages (from morningstar-data) (0.5.0)\n",
      "Requirement already satisfied: pyarrow>=10.0.1 in /opt/miniconda3/envs/quant/lib/python3.11/site-packages (from morningstar-data) (19.0.1)\n",
      "Requirement already satisfied: requests<3.0.0,>=2.28.2 in /opt/miniconda3/envs/quant/lib/python3.11/site-packages (from morningstar-data) (2.32.3)\n",
      "Requirement already satisfied: simplejson>=3 in /opt/miniconda3/envs/quant/lib/python3.11/site-packages (from morningstar-data) (3.20.1)\n",
      "Requirement already satisfied: tenacity<9.0.0,>=8.2.2 in /opt/miniconda3/envs/quant/lib/python3.11/site-packages (from morningstar-data) (8.5.0)\n",
      "Requirement already satisfied: typeguard<3.0.0,>=2.13.3 in /opt/miniconda3/envs/quant/lib/python3.11/site-packages (from morningstar-data) (2.13.3)\n",
      "Requirement already satisfied: botocore<1.38.0,>=1.37.2 in /opt/miniconda3/envs/quant/lib/python3.11/site-packages (from boto3<2.0.0,>=1.20.1->morningstar-data) (1.37.2)\n",
      "Requirement already satisfied: jmespath<2.0.0,>=0.7.1 in /opt/miniconda3/envs/quant/lib/python3.11/site-packages (from boto3<2.0.0,>=1.20.1->morningstar-data) (1.0.1)\n",
      "Requirement already satisfied: s3transfer<0.12.0,>=0.11.0 in /opt/miniconda3/envs/quant/lib/python3.11/site-packages (from boto3<2.0.0,>=1.20.1->morningstar-data) (0.11.3)\n",
      "Requirement already satisfied: python-dateutil>=2.8.2 in /opt/miniconda3/envs/quant/lib/python3.11/site-packages (from pandas<3,>=1.5.3->morningstar-data) (2.9.0.post0)\n",
      "Requirement already satisfied: pytz>=2020.1 in /opt/miniconda3/envs/quant/lib/python3.11/site-packages (from pandas<3,>=1.5.3->morningstar-data) (2024.1)\n",
      "Requirement already satisfied: tzdata>=2022.7 in /opt/miniconda3/envs/quant/lib/python3.11/site-packages (from pandas<3,>=1.5.3->morningstar-data) (2025.1)\n",
      "Requirement already satisfied: charset_normalizer<4,>=2 in /opt/miniconda3/envs/quant/lib/python3.11/site-packages (from requests<3.0.0,>=2.28.2->morningstar-data) (3.4.1)\n",
      "Requirement already satisfied: idna<4,>=2.5 in /opt/miniconda3/envs/quant/lib/python3.11/site-packages (from requests<3.0.0,>=2.28.2->morningstar-data) (3.10)\n",
      "Requirement already satisfied: urllib3<3,>=1.21.1 in /opt/miniconda3/envs/quant/lib/python3.11/site-packages (from requests<3.0.0,>=2.28.2->morningstar-data) (2.3.0)\n",
      "Requirement already satisfied: certifi>=2017.4.17 in /opt/miniconda3/envs/quant/lib/python3.11/site-packages (from requests<3.0.0,>=2.28.2->morningstar-data) (2025.1.31)\n",
      "Requirement already satisfied: six>=1.5 in /opt/miniconda3/envs/quant/lib/python3.11/site-packages (from python-dateutil>=2.8.2->pandas<3,>=1.5.3->morningstar-data) (1.17.0)\n"
     ]
    }
   ],
   "source": [
    "!pip install yfinance\n",
    "!pip install morningstar-data"
   ]
  },
  {
   "cell_type": "code",
   "execution_count": 17,
   "id": "78a832d9-c971-447a-9b0d-39a9a405eb42",
   "metadata": {},
   "outputs": [
    {
     "name": "stdout",
     "output_type": "stream",
     "text": [
      "The autoreload extension is already loaded. To reload it, use:\n",
      "  %reload_ext autoreload\n"
     ]
    }
   ],
   "source": [
    "%load_ext autoreload\n",
    "%autoreload 2"
   ]
  },
  {
   "cell_type": "code",
   "execution_count": 121,
   "id": "5f4e5540-b106-4cba-98e3-4e1e18dd46ca",
   "metadata": {},
   "outputs": [],
   "source": [
    "import numpy as np\n",
    "import pandas as pd\n",
    "pd.set_option('display.max_rows',100)\n",
    "import matplotlib.pyplot as plt\n",
    "\n",
    "import scipy\n",
    "import seaborn as sns\n",
    "import statsmodels.api as sm\n",
    "from IPython.display import display\n",
    "\n",
    "import requests\n",
    "#--\n",
    "import cvxpy as cp\n",
    "from pypfopt import expected_returns, risk_models, EfficientFrontier\n",
    "# import mlfinlab\n",
    "import QuantLib as ql\n",
    "import yfinance as yf\n",
    "\n",
    "#--\n",
    "from api_functions import *\n"
   ]
  },
  {
   "cell_type": "code",
   "execution_count": 173,
   "id": "b853950c-8103-4cd8-a4c5-340b0b65b142",
   "metadata": {},
   "outputs": [],
   "source": [
    "def plot_EfficientFrontier(mu, S):\n",
    "    # Obtener puntos de la frontera eficiente\n",
    "    efrontier_returns = np.linspace(0.01, 0.19, 100)\n",
    "    efrontier_risks = []\n",
    "\n",
    "    for r in efrontier_returns:\n",
    "        ef_new = EfficientFrontier(mu, S) # inicializar - instancia Optimizador\n",
    "        ef_new.efficient_return(r)\n",
    "        efrontier_risks.append(ef_new.portfolio_performance()[1])\n",
    "\n",
    "    # PLOT\n",
    "    plt.figure(figsize=(10, 6))\n",
    "    plt.plot(efrontier_risks, efrontier_returns, label=\"Frontera Eficiente\")\n",
    "    plt.title('Frontera Eficiente')\n",
    "    plt.xlabel('Riesgo (Desviación Estándar)')\n",
    "    plt.ylabel('Retorno Esperado')\n",
    "    plt.scatter(performance[1], performance[0], color='red', marker='*', s=200, label=\"Portafolio Óptimo\")\n",
    "    plt.legend()\n",
    "\n",
    "def plot_returns(returns=returns):\n",
    "    plt.figure(figsize=(10, 6))\n",
    "    sns.histplot(returns, kde=True, bins=30)\n",
    "    plt.title('Distribución de Rendimientos Diarios')\n",
    "    plt.show()\n"
   ]
  },
  {
   "cell_type": "code",
   "execution_count": 122,
   "id": "cf1d3420-57b3-4adc-ad14-773f6178484e",
   "metadata": {},
   "outputs": [
    {
     "name": "stdout",
     "output_type": "stream",
     "text": [
      "{'access_key': '11eaea255a0fa4c2f436638015f87e9b', 'symbols': 'ASML,IDR.MC,PFE,TOELY,MRNA'}\n"
     ]
    }
   ],
   "source": [
    "#< Initial display)>#\n",
    "print(params)"
   ]
  },
  {
   "cell_type": "code",
   "execution_count": 176,
   "id": "755b7db2-ba81-447b-b3dc-4740c08b7665",
   "metadata": {},
   "outputs": [
    {
     "name": "stdout",
     "output_type": "stream",
     "text": [
      "{'access_key': '11eaea255a0fa4c2f436638015f87e9b', 'symbols': 'ASML,IDR.MC,PFE,TOELY,MRNA', 'date_from': '2020-01-01', 'date_to': '2025-02-27', 'limit': 10000}\n",
      "<class 'pandas.core.frame.DataFrame'>\n",
      "Index: 1291 entries, 2020-01-02 to 2025-02-26\n",
      "Data columns (total 4 columns):\n",
      " #   Column  Non-Null Count  Dtype  \n",
      "---  ------  --------------  -----  \n",
      " 0   ASML    1291 non-null   float64\n",
      " 1   MRNA    1291 non-null   float64\n",
      " 2   PFE     1291 non-null   float64\n",
      " 3   TOELY   1291 non-null   float64\n",
      "dtypes: float64(4)\n",
      "memory usage: 50.4+ KB\n"
     ]
    },
    {
     "data": {
      "text/html": [
       "<div>\n",
       "<style scoped>\n",
       "    .dataframe tbody tr th:only-of-type {\n",
       "        vertical-align: middle;\n",
       "    }\n",
       "\n",
       "    .dataframe tbody tr th {\n",
       "        vertical-align: top;\n",
       "    }\n",
       "\n",
       "    .dataframe thead th {\n",
       "        text-align: right;\n",
       "    }\n",
       "</style>\n",
       "<table border=\"1\" class=\"dataframe\">\n",
       "  <thead>\n",
       "    <tr style=\"text-align: right;\">\n",
       "      <th>symbol</th>\n",
       "      <th>ASML</th>\n",
       "      <th>MRNA</th>\n",
       "      <th>PFE</th>\n",
       "      <th>TOELY</th>\n",
       "    </tr>\n",
       "    <tr>\n",
       "      <th>symbol</th>\n",
       "      <th></th>\n",
       "      <th></th>\n",
       "      <th></th>\n",
       "      <th></th>\n",
       "    </tr>\n",
       "  </thead>\n",
       "  <tbody>\n",
       "    <tr>\n",
       "      <th>ASML</th>\n",
       "      <td>1.000000</td>\n",
       "      <td>0.367107</td>\n",
       "      <td>-0.229468</td>\n",
       "      <td>0.682632</td>\n",
       "    </tr>\n",
       "    <tr>\n",
       "      <th>MRNA</th>\n",
       "      <td>0.367107</td>\n",
       "      <td>1.000000</td>\n",
       "      <td>0.579060</td>\n",
       "      <td>0.584154</td>\n",
       "    </tr>\n",
       "    <tr>\n",
       "      <th>PFE</th>\n",
       "      <td>-0.229468</td>\n",
       "      <td>0.579060</td>\n",
       "      <td>1.000000</td>\n",
       "      <td>0.280576</td>\n",
       "    </tr>\n",
       "    <tr>\n",
       "      <th>TOELY</th>\n",
       "      <td>0.682632</td>\n",
       "      <td>0.584154</td>\n",
       "      <td>0.280576</td>\n",
       "      <td>1.000000</td>\n",
       "    </tr>\n",
       "  </tbody>\n",
       "</table>\n",
       "</div>"
      ],
      "text/plain": [
       "symbol      ASML      MRNA       PFE     TOELY\n",
       "symbol                                        \n",
       "ASML    1.000000  0.367107 -0.229468  0.682632\n",
       "MRNA    0.367107  1.000000  0.579060  0.584154\n",
       "PFE    -0.229468  0.579060  1.000000  0.280576\n",
       "TOELY   0.682632  0.584154  0.280576  1.000000"
      ]
     },
     "metadata": {},
     "output_type": "display_data"
    },
    {
     "name": "stdout",
     "output_type": "stream",
     "text": [
      "Retorno esperado:\n",
      " symbol\n",
      "ASML     0.193856\n",
      "MRNA     0.115050\n",
      "PFE     -0.070200\n",
      "TOELY    0.065826\n",
      "dtype: float64\n",
      "\n",
      "Matriz de covarianza:\n",
      " symbol      ASML      MRNA       PFE     TOELY\n",
      "symbol                                        \n",
      "ASML    0.187840  0.063874  0.022224  0.114645\n",
      "MRNA    0.063874  0.568842  0.047094  0.048034\n",
      "PFE     0.022224  0.047094  0.076685  0.013674\n",
      "TOELY   0.114645  0.048034  0.013674  0.199557\n",
      "Expected annual return: 18.7%\n",
      "Annual volatility: 41.4%\n",
      "Sharpe Ratio: 0.45\n",
      "\n",
      "Pesos óptimos para cada activo:\n",
      "OrderedDict([('ASML', 0.917714067724295), ('MRNA', 0.082285932275705), ('PFE', 0.0), ('TOELY', 0.0)])\n"
     ]
    },
    {
     "data": {
      "image/png": "[encoded data removed]",
      "text/plain": [
       "<Figure size 1000x600 with 1 Axes>"
      ]
     },
     "metadata": {},
     "output_type": "display_data"
    }
   ],
   "source": [
    "# -- MAIN -- #\n",
    "params.update(\n",
    "    {'date_from' : '2020-01-01', 'date_to' : pd.to_datetime('today').date().strftime('%Y-%m-%d'), \n",
    "     'limit':10000})\n",
    "print(params)\n",
    "\n",
    "histdata = get_Heod(params)\n",
    "\n",
    "df = histdata.pivot(columns='symbol', values='adj_close').dropna() # df de Adj-Close\n",
    "df.info()\n",
    "display(df.corr()) # Matriz Correlación\n",
    "\n",
    "returns = df.pct_change().dropna()\n",
    "\n",
    "\n",
    "\n",
    "\n",
    "mu = expected_returns.mean_historical_return(df)  # Retorno esperado\n",
    "S = risk_models.sample_cov(df)  # Matriz de covarianza\n",
    "\n",
    "print(\"Retorno esperado:\\n\", mu)\n",
    "print(\"\\nMatriz de covarianza:\\n\", S)\n",
    "\n",
    "\n",
    "\n",
    "\n",
    "ef = EfficientFrontier(mu, S)  # (I!) iniciar - optimizador de Portfolio\n",
    "\n",
    "weights = ef.max_sharpe()  # maximizar - Sharpe (#criterion)\n",
    "\n",
    "performance = ef.portfolio_performance(verbose=True) # rendimiento y riesgo - Portfolio óptimo\n",
    "\n",
    "print(\"\\nPesos óptimos para cada activo:\")\n",
    "print(weights)\n",
    "\n",
    "\n",
    "\n",
    "plot_EfficientFrontier(mu, S)\n"
   ]
  },
  {
   "cell_type": "code",
   "execution_count": 18,
   "id": "8b7abba8-c689-48b7-bf2f-3e1df4c34344",
   "metadata": {},
   "outputs": [],
   "source": [
    "#-----------------------------------------------#\n"
   ]
  },
  {
   "cell_type": "raw",
   "id": "58925161-39f5-416a-bb1b-31c380fa176c",
   "metadata": {
    "jupyter": {
     "source_hidden": true
    }
   },
   "source": [
    "# Definir los tickers de las acciones para el portafolio\n",
    "tickers = ['AAPL', 'MSFT', 'GOOGL', 'AMZN']\n",
    "\n",
    "# Descargar datos históricos de los precios de las acciones (últimos 5 años)\n",
    "data = yf.download(tickers, start='2018-01-01', end='2023-01-01')['Adj Close']\n",
    "\n",
    "# Calcular los rendimientos diarios de las acciones\n",
    "returns = data.pct_change().dropna()\n",
    "\n",
    "# Calcular los rendimientos esperados y la matriz de covarianza\n",
    "mean_returns = expected_returns.mean_historical_return(data)\n",
    "cov_matrix = risk_models.sample_cov(data)\n",
    "\n",
    "# Visualización de los rendimientos esperados y la matriz de covarianza\n",
    "print(\"Rendimientos esperados: \\n\", mean_returns)\n",
    "print(\"Matriz de covarianza: \\n\", cov_matrix)\n",
    "\n",
    "# Optimizar el portafolio usando Efficient Frontier\n",
    "ef = EfficientFrontier(mean_returns, cov_matrix)\n",
    "weights = ef.max_sharpe()  # Maximizar la ratio de Sharpe\n",
    "\n",
    "# Obtener los pesos óptimos del portafolio\n",
    "print(\"\\nPesos óptimos del portafolio: \\n\", weights)\n",
    "\n",
    "# Calcular el rendimiento y el riesgo del portafolio optimizado\n",
    "performance = ef.portfolio_performance(verbose=True)\n",
    "\n",
    "# Visualizar el portafolio en la frontera eficiente\n",
    "ef_frontier = np.linspace(0, 0.5, 100)\n",
    "volatilities = []\n",
    "returns_ef = []\n",
    "\n",
    "for target_return in ef_frontier:\n",
    "    ef = EfficientFrontier(mean_returns, cov_matrix)\n",
    "    ef.efficient_return(target_return)\n",
    "    weights = ef.weights\n",
    "    portfolio_return = np.sum(mean_returns * np.array(list(weights.values())))\n",
    "    portfolio_volatility = np.sqrt(np.dot(weights.values(), np.dot(cov_matrix, list(weights.values()))))\n",
    "    volatilities.append(portfolio_volatility)\n",
    "    returns_ef.append(portfolio_return)\n",
    "\n",
    "# Graficar la frontera eficiente\n",
    "plt.figure(figsize=(10, 6))\n",
    "plt.plot(volatilities, returns_ef, label='Frontera Eficiente', color='orange')\n",
    "plt.scatter(performance[1], performance[0], color='red', marker='*', s=200, label='Portafolio Óptimo')\n",
    "plt.title('Frontera Eficiente y Portafolio Óptimo')\n",
    "plt.xlabel('Riesgo (Volatilidad)')\n",
    "plt.ylabel('Rendimiento Esperado')\n",
    "plt.legend()\n",
    "plt.grid(True)\n",
    "plt.show()"
   ]
  },
  {
   "cell_type": "code",
   "execution_count": null,
   "id": "055b48f9-67e4-46bd-96e4-588a15f254d3",
   "metadata": {},
   "outputs": [],
   "source": []
  }
 ],
 "metadata": {
  "kernelspec": {
   "display_name": "Python 3 (ipykernel)",
   "language": "python",
   "name": "python3"
  },
  "language_info": {
   "codemirror_mode": {
    "name": "ipython",
    "version": 3
   },
   "file_extension": ".py",
   "mimetype": "text/x-python",
   "name": "python",
   "nbconvert_exporter": "python",
   "pygments_lexer": "ipython3",
   "version": "3.11.11"
  }
 },
 "nbformat": 4,
 "nbformat_minor": 5
}
